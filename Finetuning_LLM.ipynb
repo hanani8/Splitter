{
  "cells": [
    {
      "cell_type": "markdown",
      "metadata": {
        "id": "YO7hxinxDMWL"
      },
      "source": [
        "### Downloading Dataset"
      ]
    },
    {
      "cell_type": "code",
      "execution_count": 1,
      "metadata": {
        "colab": {
          "base_uri": "https://localhost:8080/"
        },
        "id": "aonenw0iCKXZ",
        "outputId": "168b021a-99fc-4643-936d-0512c4dab0f9"
      },
      "outputs": [
        {
          "output_type": "stream",
          "name": "stdout",
          "text": [
            "File Downloaded and Saved as sms_spam_collection/SMSSpamCollection.tsv\n"
          ]
        }
      ],
      "source": [
        "import urllib.request\n",
        "import zipfile\n",
        "import os\n",
        "from pathlib import Path\n",
        "\n",
        "url = \"https://archive.ics.uci.edu/static/public/228/sms+spam+collection.zip\"\n",
        "zip_path = \"sms_spam_collection.zip\"\n",
        "extracted_path = \"sms_spam_collection\"\n",
        "data_file_path = Path(extracted_path) / \"SMSSpamCollection.tsv\"\n",
        "\n",
        "def download_and_unzip_spam_data(\n",
        "url, zip_path, extracted_path, data_file_path):\n",
        "  if data_file_path.exists():\n",
        "    print(\"Data file already exists\")\n",
        "    return\n",
        "\n",
        "  with urllib.request.urlopen(url) as response:\n",
        "    with open(zip_path, \"wb\") as f:\n",
        "      f.write(response.read())\n",
        "\n",
        "  with zipfile.ZipFile(zip_path, \"r\") as f:\n",
        "    f.extractall(extracted_path)\n",
        "\n",
        "  original_file_path = Path(extracted_path) / \"SMSSpamCollection\"\n",
        "  os.rename(original_file_path, data_file_path)\n",
        "  print(f\"File Downloaded and Saved as {data_file_path}\")\n",
        "\n",
        "download_and_unzip_spam_data(url, zip_path, extracted_path, data_file_path)"
      ]
    },
    {
      "cell_type": "code",
      "execution_count": 2,
      "metadata": {
        "colab": {
          "base_uri": "https://localhost:8080/",
          "height": 424
        },
        "id": "g3q22kWvDAzJ",
        "outputId": "3736f813-ca05-45e6-d330-fb08e8b2f527"
      },
      "outputs": [
        {
          "output_type": "execute_result",
          "data": {
            "text/plain": [
              "     Label                                               Text\n",
              "0      ham  Go until jurong point, crazy.. Available only ...\n",
              "1      ham                      Ok lar... Joking wif u oni...\n",
              "2     spam  Free entry in 2 a wkly comp to win FA Cup fina...\n",
              "3      ham  U dun say so early hor... U c already then say...\n",
              "4      ham  Nah I don't think he goes to usf, he lives aro...\n",
              "...    ...                                                ...\n",
              "5567  spam  This is the 2nd time we have tried 2 contact u...\n",
              "5568   ham               Will ü b going to esplanade fr home?\n",
              "5569   ham  Pity, * was in mood for that. So...any other s...\n",
              "5570   ham  The guy did some bitching but I acted like i'd...\n",
              "5571   ham                         Rofl. Its true to its name\n",
              "\n",
              "[5572 rows x 2 columns]"
            ],
            "text/html": [
              "\n",
              "  <div id=\"df-6d08c6f9-093f-46eb-905e-d3722f1dbf58\" class=\"colab-df-container\">\n",
              "    <div>\n",
              "<style scoped>\n",
              "    .dataframe tbody tr th:only-of-type {\n",
              "        vertical-align: middle;\n",
              "    }\n",
              "\n",
              "    .dataframe tbody tr th {\n",
              "        vertical-align: top;\n",
              "    }\n",
              "\n",
              "    .dataframe thead th {\n",
              "        text-align: right;\n",
              "    }\n",
              "</style>\n",
              "<table border=\"1\" class=\"dataframe\">\n",
              "  <thead>\n",
              "    <tr style=\"text-align: right;\">\n",
              "      <th></th>\n",
              "      <th>Label</th>\n",
              "      <th>Text</th>\n",
              "    </tr>\n",
              "  </thead>\n",
              "  <tbody>\n",
              "    <tr>\n",
              "      <th>0</th>\n",
              "      <td>ham</td>\n",
              "      <td>Go until jurong point, crazy.. Available only ...</td>\n",
              "    </tr>\n",
              "    <tr>\n",
              "      <th>1</th>\n",
              "      <td>ham</td>\n",
              "      <td>Ok lar... Joking wif u oni...</td>\n",
              "    </tr>\n",
              "    <tr>\n",
              "      <th>2</th>\n",
              "      <td>spam</td>\n",
              "      <td>Free entry in 2 a wkly comp to win FA Cup fina...</td>\n",
              "    </tr>\n",
              "    <tr>\n",
              "      <th>3</th>\n",
              "      <td>ham</td>\n",
              "      <td>U dun say so early hor... U c already then say...</td>\n",
              "    </tr>\n",
              "    <tr>\n",
              "      <th>4</th>\n",
              "      <td>ham</td>\n",
              "      <td>Nah I don't think he goes to usf, he lives aro...</td>\n",
              "    </tr>\n",
              "    <tr>\n",
              "      <th>...</th>\n",
              "      <td>...</td>\n",
              "      <td>...</td>\n",
              "    </tr>\n",
              "    <tr>\n",
              "      <th>5567</th>\n",
              "      <td>spam</td>\n",
              "      <td>This is the 2nd time we have tried 2 contact u...</td>\n",
              "    </tr>\n",
              "    <tr>\n",
              "      <th>5568</th>\n",
              "      <td>ham</td>\n",
              "      <td>Will ü b going to esplanade fr home?</td>\n",
              "    </tr>\n",
              "    <tr>\n",
              "      <th>5569</th>\n",
              "      <td>ham</td>\n",
              "      <td>Pity, * was in mood for that. So...any other s...</td>\n",
              "    </tr>\n",
              "    <tr>\n",
              "      <th>5570</th>\n",
              "      <td>ham</td>\n",
              "      <td>The guy did some bitching but I acted like i'd...</td>\n",
              "    </tr>\n",
              "    <tr>\n",
              "      <th>5571</th>\n",
              "      <td>ham</td>\n",
              "      <td>Rofl. Its true to its name</td>\n",
              "    </tr>\n",
              "  </tbody>\n",
              "</table>\n",
              "<p>5572 rows × 2 columns</p>\n",
              "</div>\n",
              "    <div class=\"colab-df-buttons\">\n",
              "\n",
              "  <div class=\"colab-df-container\">\n",
              "    <button class=\"colab-df-convert\" onclick=\"convertToInteractive('df-6d08c6f9-093f-46eb-905e-d3722f1dbf58')\"\n",
              "            title=\"Convert this dataframe to an interactive table.\"\n",
              "            style=\"display:none;\">\n",
              "\n",
              "  <svg xmlns=\"http://www.w3.org/2000/svg\" height=\"24px\" viewBox=\"0 -960 960 960\">\n",
              "    <path d=\"M120-120v-720h720v720H120Zm60-500h600v-160H180v160Zm220 220h160v-160H400v160Zm0 220h160v-160H400v160ZM180-400h160v-160H180v160Zm440 0h160v-160H620v160ZM180-180h160v-160H180v160Zm440 0h160v-160H620v160Z\"/>\n",
              "  </svg>\n",
              "    </button>\n",
              "\n",
              "  <style>\n",
              "    .colab-df-container {\n",
              "      display:flex;\n",
              "      gap: 12px;\n",
              "    }\n",
              "\n",
              "    .colab-df-convert {\n",
              "      background-color: #E8F0FE;\n",
              "      border: none;\n",
              "      border-radius: 50%;\n",
              "      cursor: pointer;\n",
              "      display: none;\n",
              "      fill: #1967D2;\n",
              "      height: 32px;\n",
              "      padding: 0 0 0 0;\n",
              "      width: 32px;\n",
              "    }\n",
              "\n",
              "    .colab-df-convert:hover {\n",
              "      background-color: #E2EBFA;\n",
              "      box-shadow: 0px 1px 2px rgba(60, 64, 67, 0.3), 0px 1px 3px 1px rgba(60, 64, 67, 0.15);\n",
              "      fill: #174EA6;\n",
              "    }\n",
              "\n",
              "    .colab-df-buttons div {\n",
              "      margin-bottom: 4px;\n",
              "    }\n",
              "\n",
              "    [theme=dark] .colab-df-convert {\n",
              "      background-color: #3B4455;\n",
              "      fill: #D2E3FC;\n",
              "    }\n",
              "\n",
              "    [theme=dark] .colab-df-convert:hover {\n",
              "      background-color: #434B5C;\n",
              "      box-shadow: 0px 1px 3px 1px rgba(0, 0, 0, 0.15);\n",
              "      filter: drop-shadow(0px 1px 2px rgba(0, 0, 0, 0.3));\n",
              "      fill: #FFFFFF;\n",
              "    }\n",
              "  </style>\n",
              "\n",
              "    <script>\n",
              "      const buttonEl =\n",
              "        document.querySelector('#df-6d08c6f9-093f-46eb-905e-d3722f1dbf58 button.colab-df-convert');\n",
              "      buttonEl.style.display =\n",
              "        google.colab.kernel.accessAllowed ? 'block' : 'none';\n",
              "\n",
              "      async function convertToInteractive(key) {\n",
              "        const element = document.querySelector('#df-6d08c6f9-093f-46eb-905e-d3722f1dbf58');\n",
              "        const dataTable =\n",
              "          await google.colab.kernel.invokeFunction('convertToInteractive',\n",
              "                                                    [key], {});\n",
              "        if (!dataTable) return;\n",
              "\n",
              "        const docLinkHtml = 'Like what you see? Visit the ' +\n",
              "          '<a target=\"_blank\" href=https://colab.research.google.com/notebooks/data_table.ipynb>data table notebook</a>'\n",
              "          + ' to learn more about interactive tables.';\n",
              "        element.innerHTML = '';\n",
              "        dataTable['output_type'] = 'display_data';\n",
              "        await google.colab.output.renderOutput(dataTable, element);\n",
              "        const docLink = document.createElement('div');\n",
              "        docLink.innerHTML = docLinkHtml;\n",
              "        element.appendChild(docLink);\n",
              "      }\n",
              "    </script>\n",
              "  </div>\n",
              "\n",
              "\n",
              "<div id=\"df-9ecb12c3-556f-40ad-9ab1-f532d7efa34f\">\n",
              "  <button class=\"colab-df-quickchart\" onclick=\"quickchart('df-9ecb12c3-556f-40ad-9ab1-f532d7efa34f')\"\n",
              "            title=\"Suggest charts\"\n",
              "            style=\"display:none;\">\n",
              "\n",
              "<svg xmlns=\"http://www.w3.org/2000/svg\" height=\"24px\"viewBox=\"0 0 24 24\"\n",
              "     width=\"24px\">\n",
              "    <g>\n",
              "        <path d=\"M19 3H5c-1.1 0-2 .9-2 2v14c0 1.1.9 2 2 2h14c1.1 0 2-.9 2-2V5c0-1.1-.9-2-2-2zM9 17H7v-7h2v7zm4 0h-2V7h2v10zm4 0h-2v-4h2v4z\"/>\n",
              "    </g>\n",
              "</svg>\n",
              "  </button>\n",
              "\n",
              "<style>\n",
              "  .colab-df-quickchart {\n",
              "      --bg-color: #E8F0FE;\n",
              "      --fill-color: #1967D2;\n",
              "      --hover-bg-color: #E2EBFA;\n",
              "      --hover-fill-color: #174EA6;\n",
              "      --disabled-fill-color: #AAA;\n",
              "      --disabled-bg-color: #DDD;\n",
              "  }\n",
              "\n",
              "  [theme=dark] .colab-df-quickchart {\n",
              "      --bg-color: #3B4455;\n",
              "      --fill-color: #D2E3FC;\n",
              "      --hover-bg-color: #434B5C;\n",
              "      --hover-fill-color: #FFFFFF;\n",
              "      --disabled-bg-color: #3B4455;\n",
              "      --disabled-fill-color: #666;\n",
              "  }\n",
              "\n",
              "  .colab-df-quickchart {\n",
              "    background-color: var(--bg-color);\n",
              "    border: none;\n",
              "    border-radius: 50%;\n",
              "    cursor: pointer;\n",
              "    display: none;\n",
              "    fill: var(--fill-color);\n",
              "    height: 32px;\n",
              "    padding: 0;\n",
              "    width: 32px;\n",
              "  }\n",
              "\n",
              "  .colab-df-quickchart:hover {\n",
              "    background-color: var(--hover-bg-color);\n",
              "    box-shadow: 0 1px 2px rgba(60, 64, 67, 0.3), 0 1px 3px 1px rgba(60, 64, 67, 0.15);\n",
              "    fill: var(--button-hover-fill-color);\n",
              "  }\n",
              "\n",
              "  .colab-df-quickchart-complete:disabled,\n",
              "  .colab-df-quickchart-complete:disabled:hover {\n",
              "    background-color: var(--disabled-bg-color);\n",
              "    fill: var(--disabled-fill-color);\n",
              "    box-shadow: none;\n",
              "  }\n",
              "\n",
              "  .colab-df-spinner {\n",
              "    border: 2px solid var(--fill-color);\n",
              "    border-color: transparent;\n",
              "    border-bottom-color: var(--fill-color);\n",
              "    animation:\n",
              "      spin 1s steps(1) infinite;\n",
              "  }\n",
              "\n",
              "  @keyframes spin {\n",
              "    0% {\n",
              "      border-color: transparent;\n",
              "      border-bottom-color: var(--fill-color);\n",
              "      border-left-color: var(--fill-color);\n",
              "    }\n",
              "    20% {\n",
              "      border-color: transparent;\n",
              "      border-left-color: var(--fill-color);\n",
              "      border-top-color: var(--fill-color);\n",
              "    }\n",
              "    30% {\n",
              "      border-color: transparent;\n",
              "      border-left-color: var(--fill-color);\n",
              "      border-top-color: var(--fill-color);\n",
              "      border-right-color: var(--fill-color);\n",
              "    }\n",
              "    40% {\n",
              "      border-color: transparent;\n",
              "      border-right-color: var(--fill-color);\n",
              "      border-top-color: var(--fill-color);\n",
              "    }\n",
              "    60% {\n",
              "      border-color: transparent;\n",
              "      border-right-color: var(--fill-color);\n",
              "    }\n",
              "    80% {\n",
              "      border-color: transparent;\n",
              "      border-right-color: var(--fill-color);\n",
              "      border-bottom-color: var(--fill-color);\n",
              "    }\n",
              "    90% {\n",
              "      border-color: transparent;\n",
              "      border-bottom-color: var(--fill-color);\n",
              "    }\n",
              "  }\n",
              "</style>\n",
              "\n",
              "  <script>\n",
              "    async function quickchart(key) {\n",
              "      const quickchartButtonEl =\n",
              "        document.querySelector('#' + key + ' button');\n",
              "      quickchartButtonEl.disabled = true;  // To prevent multiple clicks.\n",
              "      quickchartButtonEl.classList.add('colab-df-spinner');\n",
              "      try {\n",
              "        const charts = await google.colab.kernel.invokeFunction(\n",
              "            'suggestCharts', [key], {});\n",
              "      } catch (error) {\n",
              "        console.error('Error during call to suggestCharts:', error);\n",
              "      }\n",
              "      quickchartButtonEl.classList.remove('colab-df-spinner');\n",
              "      quickchartButtonEl.classList.add('colab-df-quickchart-complete');\n",
              "    }\n",
              "    (() => {\n",
              "      let quickchartButtonEl =\n",
              "        document.querySelector('#df-9ecb12c3-556f-40ad-9ab1-f532d7efa34f button');\n",
              "      quickchartButtonEl.style.display =\n",
              "        google.colab.kernel.accessAllowed ? 'block' : 'none';\n",
              "    })();\n",
              "  </script>\n",
              "</div>\n",
              "\n",
              "  <div id=\"id_76e6a892-a211-4cab-9d6f-28b14f664201\">\n",
              "    <style>\n",
              "      .colab-df-generate {\n",
              "        background-color: #E8F0FE;\n",
              "        border: none;\n",
              "        border-radius: 50%;\n",
              "        cursor: pointer;\n",
              "        display: none;\n",
              "        fill: #1967D2;\n",
              "        height: 32px;\n",
              "        padding: 0 0 0 0;\n",
              "        width: 32px;\n",
              "      }\n",
              "\n",
              "      .colab-df-generate:hover {\n",
              "        background-color: #E2EBFA;\n",
              "        box-shadow: 0px 1px 2px rgba(60, 64, 67, 0.3), 0px 1px 3px 1px rgba(60, 64, 67, 0.15);\n",
              "        fill: #174EA6;\n",
              "      }\n",
              "\n",
              "      [theme=dark] .colab-df-generate {\n",
              "        background-color: #3B4455;\n",
              "        fill: #D2E3FC;\n",
              "      }\n",
              "\n",
              "      [theme=dark] .colab-df-generate:hover {\n",
              "        background-color: #434B5C;\n",
              "        box-shadow: 0px 1px 3px 1px rgba(0, 0, 0, 0.15);\n",
              "        filter: drop-shadow(0px 1px 2px rgba(0, 0, 0, 0.3));\n",
              "        fill: #FFFFFF;\n",
              "      }\n",
              "    </style>\n",
              "    <button class=\"colab-df-generate\" onclick=\"generateWithVariable('df')\"\n",
              "            title=\"Generate code using this dataframe.\"\n",
              "            style=\"display:none;\">\n",
              "\n",
              "  <svg xmlns=\"http://www.w3.org/2000/svg\" height=\"24px\"viewBox=\"0 0 24 24\"\n",
              "       width=\"24px\">\n",
              "    <path d=\"M7,19H8.4L18.45,9,17,7.55,7,17.6ZM5,21V16.75L18.45,3.32a2,2,0,0,1,2.83,0l1.4,1.43a1.91,1.91,0,0,1,.58,1.4,1.91,1.91,0,0,1-.58,1.4L9.25,21ZM18.45,9,17,7.55Zm-12,3A5.31,5.31,0,0,0,4.9,8.1,5.31,5.31,0,0,0,1,6.5,5.31,5.31,0,0,0,4.9,4.9,5.31,5.31,0,0,0,6.5,1,5.31,5.31,0,0,0,8.1,4.9,5.31,5.31,0,0,0,12,6.5,5.46,5.46,0,0,0,6.5,12Z\"/>\n",
              "  </svg>\n",
              "    </button>\n",
              "    <script>\n",
              "      (() => {\n",
              "      const buttonEl =\n",
              "        document.querySelector('#id_76e6a892-a211-4cab-9d6f-28b14f664201 button.colab-df-generate');\n",
              "      buttonEl.style.display =\n",
              "        google.colab.kernel.accessAllowed ? 'block' : 'none';\n",
              "\n",
              "      buttonEl.onclick = () => {\n",
              "        google.colab.notebook.generateWithVariable('df');\n",
              "      }\n",
              "      })();\n",
              "    </script>\n",
              "  </div>\n",
              "\n",
              "    </div>\n",
              "  </div>\n"
            ],
            "application/vnd.google.colaboratory.intrinsic+json": {
              "type": "dataframe",
              "variable_name": "df",
              "summary": "{\n  \"name\": \"df\",\n  \"rows\": 5572,\n  \"fields\": [\n    {\n      \"column\": \"Label\",\n      \"properties\": {\n        \"dtype\": \"category\",\n        \"num_unique_values\": 2,\n        \"samples\": [\n          \"spam\",\n          \"ham\"\n        ],\n        \"semantic_type\": \"\",\n        \"description\": \"\"\n      }\n    },\n    {\n      \"column\": \"Text\",\n      \"properties\": {\n        \"dtype\": \"string\",\n        \"num_unique_values\": 5169,\n        \"samples\": [\n          \"K, makes sense, btw carlos is being difficult so you guys are gonna smoke while I go pick up the second batch and get gas\",\n          \"URGENT! Your mobile No *********** WON a \\u00a32,000 Bonus Caller Prize on 02/06/03! This is the 2nd attempt to reach YOU! Call 09066362220 ASAP! BOX97N7QP, 150ppm\"\n        ],\n        \"semantic_type\": \"\",\n        \"description\": \"\"\n      }\n    }\n  ]\n}"
            }
          },
          "metadata": {},
          "execution_count": 2
        }
      ],
      "source": [
        "import pandas as pd\n",
        "df = pd.read_csv(\n",
        "data_file_path, sep=\"\\t\", header=None, names=[\"Label\", \"Text\"]\n",
        ")\n",
        "df"
      ]
    },
    {
      "cell_type": "markdown",
      "metadata": {
        "id": "skNr-RSkDWG9"
      },
      "source": [
        "### Processing the Dataset\n"
      ]
    },
    {
      "cell_type": "code",
      "execution_count": 3,
      "metadata": {
        "colab": {
          "base_uri": "https://localhost:8080/"
        },
        "id": "OnFu68QlDacP",
        "outputId": "5bd7e2a1-20cd-4d20-9922-e07edf1163e6"
      },
      "outputs": [
        {
          "output_type": "stream",
          "name": "stdout",
          "text": [
            "Label\n",
            "ham     747\n",
            "spam    747\n",
            "Name: count, dtype: int64\n"
          ]
        }
      ],
      "source": [
        "def create_balanced_dataset(df):\n",
        "  num_spam = df[df[\"Label\"] == \"spam\"].shape[0]\n",
        "  ham_subset = df[df[\"Label\"] == \"ham\"].sample(num_spam, random_state = 123)\n",
        "  return pd.concat([ham_subset, df[df[\"Label\"] == \"spam\"]])\n",
        "\n",
        "balanced_df = create_balanced_dataset(df)\n",
        "print(balanced_df[\"Label\"].value_counts())"
      ]
    },
    {
      "cell_type": "code",
      "execution_count": 4,
      "metadata": {
        "id": "ca8oOauEDxck"
      },
      "outputs": [],
      "source": [
        "balanced_df[\"Label\"] = balanced_df[\"Label\"].map({\"ham\": 0, \"spam\": 1})"
      ]
    },
    {
      "cell_type": "code",
      "execution_count": 5,
      "metadata": {
        "id": "BCSTHrh2D2Gz"
      },
      "outputs": [],
      "source": [
        "def random_split(df, train_frac, validation_frac):\n",
        "  # Shuffles the Dataset\n",
        "  df = df.sample(frac=1, random_state=123).reset_index(drop=True)\n",
        "\n",
        "  train_end = int(len(df) * train_frac)\n",
        "  validation_end = train_end + int(len(df) * validation_frac)\n",
        "\n",
        "  train_df = df.loc[:train_end]\n",
        "  validation_df = df.loc[train_end:validation_end]\n",
        "  test_df = df.loc[validation_end:]\n",
        "\n",
        "  return train_df, validation_df, test_df\n",
        "\n",
        "train_df, validation_df, test_df = random_split(balanced_df, 0.7, 0.1)\n",
        "\n",
        "train_df.to_csv(\"train.csv\", index=None)\n",
        "validation_df.to_csv(\"validation.csv\", index=None)\n",
        "test_df.to_csv(\"test.csv\", index=None)"
      ]
    },
    {
      "cell_type": "code",
      "execution_count": 6,
      "metadata": {
        "colab": {
          "base_uri": "https://localhost:8080/"
        },
        "id": "O6v1V10HEdzc",
        "outputId": "c58c9e6f-2485-4641-fe1c-0aaed69f5283"
      },
      "outputs": [
        {
          "output_type": "stream",
          "name": "stdout",
          "text": [
            "Cloning into 'Splitter'...\n",
            "remote: Enumerating objects: 161, done.\u001b[K\n",
            "remote: Counting objects: 100% (161/161), done.\u001b[K\n",
            "remote: Compressing objects: 100% (104/104), done.\u001b[K\n",
            "remote: Total 161 (delta 77), reused 134 (delta 50), pack-reused 0 (from 0)\u001b[K\n",
            "Receiving objects: 100% (161/161), 34.98 KiB | 1.34 MiB/s, done.\n",
            "Resolving deltas: 100% (77/77), done.\n"
          ]
        }
      ],
      "source": [
        "!git clone https://github.com/hanani8/Splitter\n",
        "# !rm -rf Splitter"
      ]
    },
    {
      "cell_type": "code",
      "execution_count": 7,
      "metadata": {
        "id": "0-hYt_9Hfz92"
      },
      "outputs": [],
      "source": [
        "!pip install tiktoken tensorflow>=2.15.0 tqdm>=4.66 torch \"numpy<2.0.0\""
      ]
    },
    {
      "cell_type": "code",
      "execution_count": 8,
      "metadata": {
        "id": "U9dh0F_gf5zk"
      },
      "outputs": [],
      "source": [
        "import torch\n",
        "\n",
        "from Splitter.datasets import SpamDataset\n",
        "from Splitter.tokenizers import TiktokenTokenizer\n",
        "from Splitter.dataloaders import create_dataloader"
      ]
    },
    {
      "cell_type": "markdown",
      "metadata": {
        "id": "jE1PGNJcHL7-"
      },
      "source": [
        "### Defining Dataset & Dataloaders"
      ]
    },
    {
      "cell_type": "code",
      "execution_count": 9,
      "metadata": {
        "colab": {
          "base_uri": "https://localhost:8080/"
        },
        "id": "qyQYV7POf-5n",
        "outputId": "6f717fbe-dad1-483a-d073-cf5d42e3983a"
      },
      "outputs": [
        {
          "output_type": "execute_result",
          "data": {
            "text/plain": [
              "120"
            ]
          },
          "metadata": {},
          "execution_count": 9
        }
      ],
      "source": [
        "tokenizer = TiktokenTokenizer()\n",
        "\n",
        "train_dataset = SpamDataset(\n",
        "    csv_file = \"train.csv\",\n",
        "    max_length = None,\n",
        "    tokenizer = tokenizer\n",
        ")\n",
        "\n",
        "train_dataset.max_length"
      ]
    },
    {
      "cell_type": "code",
      "execution_count": 10,
      "metadata": {
        "id": "SfXStpmQkNcn"
      },
      "outputs": [],
      "source": [
        "val_dataset = SpamDataset(\n",
        "    csv_file = \"validation.csv\",\n",
        "    max_length = train_dataset.max_length,\n",
        "    tokenizer = tokenizer\n",
        ")\n",
        "\n",
        "test_dataset = SpamDataset(\n",
        "    csv_file = \"test.csv\",\n",
        "    max_length = train_dataset.max_length,\n",
        "    tokenizer = tokenizer\n",
        ")"
      ]
    },
    {
      "cell_type": "code",
      "execution_count": 11,
      "metadata": {
        "id": "BVSJ0uf5kdux"
      },
      "outputs": [],
      "source": [
        "from torch.utils.data import DataLoader\n",
        "\n",
        "num_workers = 0\n",
        "batch_size = 8\n",
        "torch.manual_seed(123)\n",
        "\n",
        "train_loader = DataLoader(\n",
        "    dataset = train_dataset,\n",
        "    batch_size = batch_size,\n",
        "    shuffle = True,\n",
        "    drop_last = True,\n",
        "    num_workers = num_workers,\n",
        ")\n",
        "\n",
        "val_loader = DataLoader(\n",
        "    dataset = val_dataset,\n",
        "    batch_size = batch_size,\n",
        "    drop_last = False,\n",
        "    num_workers = num_workers\n",
        ")\n",
        "\n",
        "test_loader = DataLoader(\n",
        "    dataset = test_dataset,\n",
        "    batch_size = batch_size,\n",
        "    drop_last = False,\n",
        "    num_workers = num_workers\n",
        ")"
      ]
    },
    {
      "cell_type": "code",
      "execution_count": 12,
      "metadata": {
        "colab": {
          "base_uri": "https://localhost:8080/"
        },
        "id": "laPF8Yn5lNX5",
        "outputId": "df5f541e-b9c4-4e9e-fba8-a45e30e0275a"
      },
      "outputs": [
        {
          "output_type": "stream",
          "name": "stdout",
          "text": [
            "Input Batch Dimension:  torch.Size([8, 120])\n",
            "Target Batch Dimension:  torch.Size([8])\n",
            "130 training batches\n",
            "19 validation batches\n",
            "38 test batches\n"
          ]
        }
      ],
      "source": [
        "for input_batch, target_batch in train_loader:\n",
        "  pass\n",
        "\n",
        "print(\"Input Batch Dimension: \", input_batch.shape)\n",
        "print(\"Target Batch Dimension: \", target_batch.shape)\n",
        "\n",
        "print(f\"{len(train_loader)} training batches\")\n",
        "print(f\"{len(val_loader)} validation batches\")\n",
        "print(f\"{len(test_loader)} test batches\")"
      ]
    },
    {
      "cell_type": "code",
      "source": [
        "device = \"cuda\" if torch.cuda.is_available() else \"cpu\""
      ],
      "metadata": {
        "id": "NYMK3qHp6Zds"
      },
      "execution_count": 13,
      "outputs": []
    },
    {
      "cell_type": "markdown",
      "metadata": {
        "id": "dE8uZyLMHUu2"
      },
      "source": [
        "### Loading Model"
      ]
    },
    {
      "cell_type": "code",
      "execution_count": 14,
      "metadata": {
        "id": "pYtzU1sqDh72"
      },
      "outputs": [],
      "source": [
        "GPT_CONFIG_124M = {\n",
        "    \"vocab_size\": 50257,\n",
        "    \"context_length\": 1024,\n",
        "    \"emb_dim\": 768,\n",
        "    \"n_heads\": 12,\n",
        "    \"n_layers\": 12,\n",
        "    \"drop_rate\": 0.1,\n",
        "    \"qkv_bias\": True,\n",
        "    \"forward_layer_size\": 4\n",
        "}"
      ]
    },
    {
      "cell_type": "code",
      "execution_count": 34,
      "metadata": {
        "colab": {
          "base_uri": "https://localhost:8080/"
        },
        "id": "Rd33tF0MDtBc",
        "outputId": "d80f9f85-7645-4471-fdc0-7eb11fb17da3"
      },
      "outputs": [
        {
          "output_type": "stream",
          "name": "stdout",
          "text": [
            "File already exists and is up-to-date: state/gpt2/124M/checkpoint\n",
            "File already exists and is up-to-date: state/gpt2/124M/encoder.json\n",
            "File already exists and is up-to-date: state/gpt2/124M/hparams.json\n",
            "File already exists and is up-to-date: state/gpt2/124M/model.ckpt.data-00000-of-00001\n",
            "File already exists and is up-to-date: state/gpt2/124M/model.ckpt.index\n",
            "File already exists and is up-to-date: state/gpt2/124M/model.ckpt.meta\n",
            "File already exists and is up-to-date: state/gpt2/124M/vocab.bpe\n"
          ]
        }
      ],
      "source": [
        "from Splitter.models import GPTModel\n",
        "from Splitter.utils import load_weights_into_gpt\n",
        "from Splitter.gpt_download import download_and_load_gpt2\n",
        "\n",
        "gpt = GPTModel(GPT_CONFIG_124M)\n",
        "settings, params = download_and_load_gpt2(model_size=\"124M\", models_dir=\"state/gpt2\")\n"
      ]
    },
    {
      "cell_type": "code",
      "source": [
        "load_weights_into_gpt(gpt, params)\n",
        "gpt = gpt.to(device)"
      ],
      "metadata": {
        "id": "A1IeqkzQ7DDE"
      },
      "execution_count": 35,
      "outputs": []
    },
    {
      "cell_type": "code",
      "execution_count": 17,
      "metadata": {
        "colab": {
          "base_uri": "https://localhost:8080/",
          "height": 35
        },
        "id": "NxoLc6XVF-dc",
        "outputId": "33ac4946-ccea-4a02-c48d-25bb31725039"
      },
      "outputs": [
        {
          "output_type": "execute_result",
          "data": {
            "text/plain": [
              "'Every effort moves you to the next step.\\n\\nThe first step is to get to the'"
            ],
            "application/vnd.google.colaboratory.intrinsic+json": {
              "type": "string"
            }
          },
          "metadata": {},
          "execution_count": 17
        }
      ],
      "source": [
        "text_1 = \"Every effort moves you\"\n",
        "\n",
        "from Splitter.utils import generate_text_simple\n",
        "\n",
        "token_ids = generate_text_simple(model = gpt, idx = tokenizer.text_to_tokens(text_1).to(device), max_new_tokens = 15, context_size = GPT_CONFIG_124M[\"context_length\"])\n",
        "tokenizer.tokens_to_text(token_ids)"
      ]
    },
    {
      "cell_type": "code",
      "execution_count": 18,
      "metadata": {
        "colab": {
          "base_uri": "https://localhost:8080/",
          "height": 70
        },
        "id": "bKHiLRRSGiAO",
        "outputId": "2d2370da-2f33-42cd-fbc4-6a00df8594d3"
      },
      "outputs": [
        {
          "output_type": "execute_result",
          "data": {
            "text/plain": [
              "\"Is the following text 'spam'? Answer with 'yes' or 'no': 'You are a winner you have been specially selected to receive $1000 cash or a $2000 award.'\\n\\nThe following text 'spam'? Answer with 'yes' or 'no':\\n\\nThe following text\""
            ],
            "application/vnd.google.colaboratory.intrinsic+json": {
              "type": "string"
            }
          },
          "metadata": {},
          "execution_count": 18
        }
      ],
      "source": [
        "text_2 = (\n",
        "\"Is the following text 'spam'? Answer with 'yes' or 'no':\"\n",
        "\" 'You are a winner you have been specially\"\n",
        "\" selected to receive $1000 cash or a $2000 award.'\"\n",
        ")\n",
        "\n",
        "token_ids = generate_text_simple(model = gpt, idx = tokenizer.text_to_tokens(text_2).to(device),\n",
        "                                 max_new_tokens = 23, context_size = GPT_CONFIG_124M[\"context_length\"])\n",
        "tokenizer.tokens_to_text(token_ids)"
      ]
    },
    {
      "cell_type": "markdown",
      "metadata": {
        "id": "Mg2uhO0fHZrC"
      },
      "source": [
        "### Adding a Classification Layer"
      ]
    },
    {
      "cell_type": "code",
      "execution_count": 36,
      "metadata": {
        "id": "3-bzjGJqJMdf"
      },
      "outputs": [],
      "source": [
        "for param in gpt.parameters():\n",
        "  param.requires_grad = False"
      ]
    },
    {
      "cell_type": "code",
      "execution_count": 37,
      "metadata": {
        "id": "jgk4tKMIHkvo"
      },
      "outputs": [],
      "source": [
        "torch.manual_seed(123)\n",
        "num_classes = 2\n",
        "gpt.out_head = torch.nn.Linear(\n",
        "    in_features = gpt.config[\"emb_dim\"],\n",
        "    out_features = num_classes,\n",
        ")"
      ]
    },
    {
      "cell_type": "code",
      "execution_count": 38,
      "metadata": {
        "id": "Sg8r4V4rJTDX"
      },
      "outputs": [],
      "source": [
        "# Make final LayerNorm and TransformerBlock trainable\n",
        "\n",
        "for param in gpt.trf_blocks[-1].parameters():\n",
        "  param.requires_grad = True\n",
        "\n",
        "for param in gpt.final_norm.parameters():\n",
        "  param.requires_grad = True"
      ]
    },
    {
      "cell_type": "code",
      "execution_count": 39,
      "metadata": {
        "colab": {
          "base_uri": "https://localhost:8080/"
        },
        "id": "o_EodLaXJlq2",
        "outputId": "53ad49c1-46ba-4ce1-d0bc-a91a9e22aeb0"
      },
      "outputs": [
        {
          "output_type": "stream",
          "name": "stdout",
          "text": [
            "Inputs:  tensor([[5211,  345,  423,  640]], device='cuda:0')\n",
            "Inputs Shape:  torch.Size([1, 4])\n"
          ]
        }
      ],
      "source": [
        "inputs = tokenizer.encode(\"Do you have time\")\n",
        "inputs = torch.tensor(inputs).unsqueeze(0)\n",
        "inputs = inputs.to(device)\n",
        "print(\"Inputs: \", inputs)\n",
        "print(\"Inputs Shape: \", inputs.shape)"
      ]
    },
    {
      "cell_type": "code",
      "execution_count": 40,
      "metadata": {
        "colab": {
          "base_uri": "https://localhost:8080/"
        },
        "id": "Nea4p7vYJ17j",
        "outputId": "2cc9339c-149f-415a-fa54-2948e18660b7"
      },
      "outputs": [
        {
          "output_type": "stream",
          "name": "stdout",
          "text": [
            "Outputs: \n",
            " tensor([[[-0.3915,  0.1558],\n",
            "         [-4.8103,  8.0745],\n",
            "         [-2.7997,  5.3376],\n",
            "         [-4.0515,  5.4455]]], device='cuda:0')\n",
            "Outputs Dimensions:  torch.Size([1, 4, 2])\n",
            "Last Output Token:  tensor([-4.0515,  5.4455], device='cuda:0')\n"
          ]
        }
      ],
      "source": [
        "gpt = gpt.to(device)\n",
        "\n",
        "with torch.no_grad():\n",
        "  outputs = gpt(inputs)\n",
        "\n",
        "print(\"Outputs: \\n\", outputs)\n",
        "print(\"Outputs Dimensions: \", outputs.shape)\n",
        "print(\"Last Output Token: \", outputs[0, -1, :])"
      ]
    },
    {
      "cell_type": "markdown",
      "metadata": {
        "id": "Nj2PtM85KTfe"
      },
      "source": [
        "### Classification Loss and Accuracy"
      ]
    },
    {
      "cell_type": "code",
      "execution_count": 41,
      "metadata": {
        "colab": {
          "base_uri": "https://localhost:8080/"
        },
        "id": "RV8VukiKUTuR",
        "outputId": "7f53f0de-a266-492c-fc3b-bb81ab9ef4e3"
      },
      "outputs": [
        {
          "output_type": "stream",
          "name": "stdout",
          "text": [
            "Training Accuracy: 51.250000%\n",
            "Test Accuracy: 48.750000%\n",
            "Validation Accuracy: 45.000000%\n"
          ]
        }
      ],
      "source": [
        "torch.manual_seed(123)\n",
        "from Splitter.training import SpamAccuracyLoader\n",
        "\n",
        "accuracy_loader = SpamAccuracyLoader(gpt, device)\n",
        "\n",
        "training_accuracy = accuracy_loader.calc(data_loader = train_loader, num_batches = 10)\n",
        "test_accuracy = accuracy_loader.calc(test_loader, num_batches = 10)\n",
        "val_accuracy = accuracy_loader.calc(val_loader, num_batches = 10)\n",
        "\n",
        "print(f\"Training Accuracy: {training_accuracy*100:2f}%\")\n",
        "print(f\"Test Accuracy: {test_accuracy*100:2f}%\")\n",
        "print(f\"Validation Accuracy: {val_accuracy*100:2f}%\")\n",
        "\n"
      ]
    },
    {
      "cell_type": "code",
      "execution_count": 44,
      "metadata": {
        "colab": {
          "base_uri": "https://localhost:8080/"
        },
        "id": "F7eec82idhyx",
        "outputId": "7c2e2107-9b8e-4484-d96c-d0eb8b91c88b"
      },
      "outputs": [
        {
          "output_type": "stream",
          "name": "stdout",
          "text": [
            "Training Loss: 2.322\n",
            "Validation Loss: 2.052\n",
            "Test Loss: 1.871\n"
          ]
        }
      ],
      "source": [
        "from Splitter.training import SpamLoaderLoss\n",
        "\n",
        "spam_loader_loss = SpamLoaderLoss(gpt, device)\n",
        "\n",
        "with torch.no_grad(): # Disables Gradient Tracking\n",
        "  train_loss = spam_loader_loss.calc(data_loader = train_loader, num_batches = 5)\n",
        "  val_loss = spam_loader_loss.calc(data_loader = val_loader, num_batches = 5)\n",
        "  test_loss = spam_loader_loss.calc(data_loader = test_loader, num_batches = 5)\n",
        "\n",
        "print(f\"Training Loss: {train_loss:.3f}\")\n",
        "print(f\"Validation Loss: {val_loss:.3f}\")\n",
        "print(f\"Test Loss: {test_loss:.3f}\")"
      ]
    },
    {
      "cell_type": "code",
      "execution_count": 45,
      "metadata": {
        "id": "EWShZmrUrRih"
      },
      "outputs": [],
      "source": [
        "from Splitter.training import SpamBatchLoss\n",
        "\n",
        "spam_batch_loss = SpamBatchLoss(gpt, device)"
      ]
    },
    {
      "cell_type": "markdown",
      "metadata": {
        "id": "Fo5qP4SVotS0"
      },
      "source": [
        "### Training Loop"
      ]
    },
    {
      "cell_type": "code",
      "execution_count": 46,
      "metadata": {
        "id": "zOhA_67komPh"
      },
      "outputs": [],
      "source": [
        "def train_classifier_simple(\n",
        "    model, train_loader, val_loader, optimizer, device, num_epochs, eval_freq, eval_iter\n",
        "):\n",
        "  train_losses, val_losses, train_accs, val_accs = [], [], [], []\n",
        "\n",
        "  examples_seen, global_step = 0, -1\n",
        "\n",
        "  for epoch in range(num_epochs):\n",
        "    model.train()\n",
        "\n",
        "    for input_batch, target_batch in train_loader:\n",
        "      input_batch = input_batch.to(device)\n",
        "      target_batch = target_batch.to(device)\n",
        "      optimizer.zero_grad()\n",
        "\n",
        "      loss = spam_batch_loss.calc(input_batch, target_batch)\n",
        "\n",
        "      loss.backward()\n",
        "      optimizer.step()\n",
        "\n",
        "      examples_seen += input_batch.shape[0]\n",
        "      global_step += 1\n",
        "\n",
        "      if global_step % eval_freq == 0:\n",
        "        train_loss, val_loss = evaluate_model(\n",
        "            model, train_loader, val_loader, device, eval_iter\n",
        "        )\n",
        "\n",
        "        train_losses.append(train_loss)\n",
        "        val_losses.append(val_loss)\n",
        "\n",
        "        print(f\"Ep {epoch+1} (Step {global_step:06d}): \"\n",
        "f\"Train loss {train_loss:.3f}, \"\n",
        "f\"Val loss {val_loss:.3f}\"\n",
        ")\n",
        "    train_accuracy = accuracy_loader.calc(train_loader, num_batches=eval_iter)\n",
        "    val_accuracy = accuracy_loader.calc(val_loader, num_batches=eval_iter)\n",
        "    train_accs.append(train_accuracy)\n",
        "    val_accs.append(val_accuracy)\n",
        "  return train_losses, val_losses, train_accs, val_accs, examples_seen\n",
        "\n",
        "def evaluate_model(model, train_loader, val_loader, device, eval_iter):\n",
        "  model.eval()\n",
        "  train_loss = spam_loader_loss.calc(train_loader, num_batches=eval_iter)\n",
        "  val_loss = spam_loader_loss.calc(val_loader, num_batches=eval_iter)\n",
        "  model.train()\n",
        "  return train_loss, val_loss"
      ]
    },
    {
      "cell_type": "code",
      "execution_count": 47,
      "metadata": {
        "colab": {
          "base_uri": "https://localhost:8080/"
        },
        "id": "q0YBASUoqHt_",
        "outputId": "580f3f60-90f4-43f2-9505-887737994313"
      },
      "outputs": [
        {
          "output_type": "stream",
          "name": "stdout",
          "text": [
            "Ep 1 (Step 000000): Train loss 2.387, Val loss 2.408\n",
            "Ep 1 (Step 000050): Train loss 0.642, Val loss 0.718\n",
            "Ep 1 (Step 000100): Train loss 0.721, Val loss 0.676\n",
            "Ep 2 (Step 000150): Train loss 0.573, Val loss 0.591\n",
            "Ep 2 (Step 000200): Train loss 0.571, Val loss 0.690\n",
            "Ep 2 (Step 000250): Train loss 0.478, Val loss 0.478\n",
            "Ep 3 (Step 000300): Train loss 0.516, Val loss 0.514\n",
            "Ep 3 (Step 000350): Train loss 0.455, Val loss 0.432\n",
            "Ep 4 (Step 000400): Train loss 0.465, Val loss 0.707\n",
            "Ep 4 (Step 000450): Train loss 0.260, Val loss 0.326\n",
            "Ep 4 (Step 000500): Train loss 0.338, Val loss 0.446\n",
            "Ep 5 (Step 000550): Train loss 0.560, Val loss 0.586\n",
            "Ep 5 (Step 000600): Train loss 0.554, Val loss 0.734\n",
            "Ep 6 (Step 000650): Train loss 0.220, Val loss 0.265\n",
            "Ep 6 (Step 000700): Train loss 0.150, Val loss 0.132\n",
            "Ep 6 (Step 000750): Train loss 0.126, Val loss 0.071\n",
            "Ep 7 (Step 000800): Train loss 0.040, Val loss 0.051\n",
            "Ep 7 (Step 000850): Train loss 0.011, Val loss 0.022\n",
            "Ep 7 (Step 000900): Train loss 0.039, Val loss 0.034\n",
            "Ep 8 (Step 000950): Train loss 0.062, Val loss 0.057\n",
            "Ep 8 (Step 001000): Train loss 0.018, Val loss 0.026\n",
            "Training completed in 1.67 minutes.\n"
          ]
        }
      ],
      "source": [
        "import time\n",
        "\n",
        "start_time = time.time()\n",
        "torch.manual_seed(123)\n",
        "\n",
        "optimizer = torch.optim.AdamW(gpt.parameters(), lr=1e-4, weight_decay = 0.1)\n",
        "num_epochs = 8\n",
        "\n",
        "train_losses, val_losses, train_accs, val_accs, examples_seen = train_classifier_simple(\n",
        "    model = gpt,\n",
        "    train_loader = train_loader,\n",
        "    val_loader = val_loader,\n",
        "    optimizer = optimizer,\n",
        "    device = device,\n",
        "    num_epochs = num_epochs,\n",
        "    eval_freq = 50,\n",
        "    eval_iter = 8\n",
        ")\n",
        "\n",
        "end_time = time.time()\n",
        "\n",
        "execution_time_minutes = (end_time - start_time) / 60\n",
        "\n",
        "print(f\"Training completed in {execution_time_minutes:.2f} minutes.\")"
      ]
    },
    {
      "cell_type": "code",
      "source": [
        "train_accuracy = accuracy_loader.calc(train_loader, num_batches=10)\n",
        "val_accuracy = accuracy_loader.calc(val_loader, num_batches=10)\n",
        "test_accuracy = accuracy_loader.calc(test_loader, num_batches=10)\n",
        "\n",
        "print(f\"Training accuracy: {train_accuracy*100:.2f}%\")\n",
        "print(f\"Validation accuracy: {val_accuracy*100:.2f}%\")\n",
        "print(f\"Test accuracy: {test_accuracy*100:.2f}%\")"
      ],
      "metadata": {
        "colab": {
          "base_uri": "https://localhost:8080/"
        },
        "id": "qtWBffA_4Ihv",
        "outputId": "2b7453c9-94e7-48a0-de8c-333797ea8d3e"
      },
      "execution_count": 48,
      "outputs": [
        {
          "output_type": "stream",
          "name": "stdout",
          "text": [
            "Training accuracy: 97.50%\n",
            "Validation accuracy: 100.00%\n",
            "Test accuracy: 96.25%\n"
          ]
        }
      ]
    },
    {
      "cell_type": "code",
      "source": [
        "import matplotlib.pyplot as plt\n",
        "def plot_values(epochs_seen, examples_seen, train_values, val_values, label=\"loss\"):\n",
        "  fig, ax1 = plt.subplots(figsize=(5, 3))\n",
        "  ax1.plot(epochs_seen, train_values, label=f\"Training {label}\")\n",
        "  ax1.plot(\n",
        "  epochs_seen, val_values, linestyle=\"-.\",\n",
        "  label=f\"Validation {label}\"\n",
        "  )\n",
        "  ax1.set_xlabel(\"Epochs\")\n",
        "  ax1.set_ylabel(label.capitalize())\n",
        "\n",
        "  ax1.legend()\n",
        "\n",
        "  ax2 = ax1.twiny()\n",
        "  ax2.plot(examples_seen, train_values, alpha=0)\n",
        "  ax2.set_xlabel(\"Examples seen\")\n",
        "  fig.tight_layout()\n",
        "  plt.savefig(f\"{label}-plot.pdf\")\n",
        "  plt.show()\n",
        "\n",
        "epochs_tensor = torch.linspace(0, num_epochs, len(train_losses))\n",
        "examples_seen_tensor = torch.linspace(0, examples_seen, len(train_losses))\n",
        "plot_values(epochs_tensor, examples_seen_tensor, train_losses, val_losses)"
      ],
      "metadata": {
        "colab": {
          "base_uri": "https://localhost:8080/",
          "height": 307
        },
        "id": "PDbq8rbL4-z9",
        "outputId": "0a3a0f20-7a03-49c4-ccf1-5116af5347b9"
      },
      "execution_count": 49,
      "outputs": [
        {
          "output_type": "display_data",
          "data": {
            "text/plain": [
              "<Figure size 500x300 with 2 Axes>"
            ],
            "image/png": "[encoded data removed]"
          },
          "metadata": {}
        }
      ]
    }
  ],
  "metadata": {
    "colab": {
      "provenance": [],
      "gpuType": "T4"
    },
    "kernelspec": {
      "display_name": "Python 3",
      "name": "python3"
    },
    "language_info": {
      "name": "python"
    },
    "accelerator": "GPU"
  },
  "nbformat": 4,
  "nbformat_minor": 0
}